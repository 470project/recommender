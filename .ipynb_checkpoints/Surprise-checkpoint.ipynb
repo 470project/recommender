{
 "cells": [
  {
   "cell_type": "markdown",
   "metadata": {},
   "source": [
    "# import"
   ]
  },
  {
   "cell_type": "code",
   "execution_count": 130,
   "metadata": {
    "ExecuteTime": {
     "end_time": "2018-11-16T18:45:05.799096Z",
     "start_time": "2018-11-16T18:45:05.771283Z"
    }
   },
   "outputs": [],
   "source": [
    "from surprise import NormalPredictor\n",
    "from surprise import Dataset\n",
    "from surprise import Reader\n",
    "from surprise.model_selection import cross_validate\n",
    "from surprise import SVD\n",
    "from surprise import KNNBasic\n",
    "import json\n",
    "import string\n",
    "import matplotlib.pyplot as plt \n",
    "import json_lines\n",
    "import itertools\n",
    "import pandas as pd"
   ]
  },
  {
   "cell_type": "code",
   "execution_count": 131,
   "metadata": {
    "ExecuteTime": {
     "end_time": "2018-11-16T18:45:17.145845Z",
     "start_time": "2018-11-16T18:45:13.002712Z"
    }
   },
   "outputs": [
    {
     "name": "stdout",
     "output_type": "stream",
     "text": [
      "4037 129050 5175\n"
     ]
    }
   ],
   "source": [
    "with open('result.jl', 'rb') as f:\n",
    "    entities = [x for x in json_lines.reader(f)]\n",
    "    stories = [x for x in entities if str(x['pageType']) == \"story\" and str(x['storyType']) == '/book/Harry-Potter/']\n",
    "    reviews = [x for x in entities if str(x['pageType']) == \"review\"]\n",
    "    users = [x for x in entities if str(x['pageType']) == \"user\"]\n",
    "    heldoutUser = users[0]\n",
    "    users = users[1:]\n",
    "    print(len(stories),len(reviews),len(users))"
   ]
  },
  {
   "cell_type": "markdown",
   "metadata": {},
   "source": [
    "# construct dicts"
   ]
  },
  {
   "cell_type": "code",
   "execution_count": 132,
   "metadata": {
    "ExecuteTime": {
     "end_time": "2018-11-16T18:45:39.006896Z",
     "start_time": "2018-11-16T18:45:38.499792Z"
    }
   },
   "outputs": [],
   "source": [
    "storyLinkToIdDict = {}\n",
    "IdToStoryDict = {}\n",
    "\n",
    "#create a dict between storied and their id\n",
    "storyId = 0\n",
    "for story in stories:\n",
    "    storyLinkToIdDict[story['storyLink']] = storyId\n",
    "    IdToStoryDict[storyId] = story\n",
    "    storyId += 1\n",
    "    \n",
    "userLinkToIdDict = {}\n",
    "IdToUserDict = {}\n",
    "\n",
    "userId = 0\n",
    "for user in users:\n",
    "    userLinkToIdDict[user['name']] = userId\n",
    "    IdToUserDict[userId] = user\n",
    "    userId += 1\n",
    "\n",
    "for review in reviews:\n",
    "    if(review['reviewer'] not in userLinkToIdDict):\n",
    "        userLinkToIdDict[review['reviewer']] = userId\n",
    "        IdToUserDict[userId] = review['reviewer']\n",
    "        userId+=1\n",
    "\n",
    "reviewLinkToIdDict = {}\n",
    "IdToReviewDict = {}\n",
    "reviewId = 0\n",
    "for review in reviews:\n",
    "    reviewLinkToIdDict[review['reviewOf'] + '|' + review['reviewer']] = reviewId\n",
    "    IdToReviewDict[reviewId] = review\n",
    "    reviewId += 1"
   ]
  },
  {
   "cell_type": "markdown",
   "metadata": {},
   "source": [
    "## make scores dict"
   ]
  },
  {
   "cell_type": "code",
   "execution_count": 133,
   "metadata": {
    "ExecuteTime": {
     "end_time": "2018-11-16T18:46:25.899577Z",
     "start_time": "2018-11-16T18:46:25.674146Z"
    }
   },
   "outputs": [],
   "source": [
    "import operator\n",
    "import collections\n",
    "from collections import Counter\n",
    "import numpy as np\n",
    "\n",
    "storyReviewDic = Counter({})\n",
    "storyScores = {}\n",
    "\n",
    "cnt = 0\n",
    "for review in reviews:\n",
    "    if(review['reviewOf'] in storyLinkToIdDict):\n",
    "        #storyReviewDic[storyLinkToIdDict[review['reviewOf']]] += review['sentimentScore']\n",
    "        userId = userLinkToIdDict[review['reviewer']]\n",
    "        storyId = storyLinkToIdDict[review['reviewOf']]\n",
    "        score = review['sentimentScore']\n",
    "        storyScores[(userId, storyId)] = {\n",
    "                    \"storyId\" : storyId, \n",
    "                    \"userId\" : userId,\n",
    "                    \"score\" :  score\n",
    "                }\n",
    "        cnt += 1 "
   ]
  },
  {
   "cell_type": "markdown",
   "metadata": {},
   "source": [
    "### add in favorites data"
   ]
  },
  {
   "cell_type": "code",
   "execution_count": 134,
   "metadata": {
    "ExecuteTime": {
     "end_time": "2018-11-16T18:46:52.879405Z",
     "start_time": "2018-11-16T18:46:52.154011Z"
    },
    "code_folding": [
     0
    ]
   },
   "outputs": [],
   "source": [
    "for user in users:\n",
    "    userId = userLinkToIdDict[user['name']]\n",
    "    \n",
    "    for favorite in user['favorites']:\n",
    "        if(favorite['favStory'] in storyLinkToIdDict):\n",
    "            \n",
    "            storyId = storyLinkToIdDict[favorite['favStory']]\n",
    "            score = 2\n",
    "            if((userId, storyId) not in storyScores):\n",
    "                storyScores[(userId, storyId)] = {\n",
    "                    \"storyId\" : storyId, \n",
    "                    \"userId\" : userId,\n",
    "                    \"score\" :  0\n",
    "                }\n",
    "            storyScores[(userId, storyId)]['score'] += score\n"
   ]
  },
  {
   "cell_type": "code",
   "execution_count": 135,
   "metadata": {
    "ExecuteTime": {
     "end_time": "2018-11-16T18:47:20.554234Z",
     "start_time": "2018-11-16T18:47:20.359300Z"
    }
   },
   "outputs": [],
   "source": [
    "inputScores = []\n",
    "userList = set()\n",
    "storyList = set()\n",
    "for score, body in storyScores.items():\n",
    "    inputScores.append(body)\n",
    "    userList.add(body['userId'])\n",
    "    userList.add(body['storyId'])\n",
    "#print(inputScores[:100])"
   ]
  },
  {
   "cell_type": "code",
   "execution_count": 137,
   "metadata": {
    "ExecuteTime": {
     "end_time": "2018-11-16T18:54:00.439337Z",
     "start_time": "2018-11-16T18:50:12.528278Z"
    }
   },
   "outputs": [
    {
     "name": "stdout",
     "output_type": "stream",
     "text": [
      "Computing the msd similarity matrix...\n",
      "Done computing similarity matrix.\n"
     ]
    }
   ],
   "source": [
    "def train(examples):\n",
    "    df = pd.DataFrame(examples)\n",
    "    reader = Reader(rating_scale=(-5, 10))\n",
    "    data = Dataset.load_from_df(df[['userId', 'storyId', 'score']], reader)\n",
    "    trainset = data.build_full_trainset()\n",
    "    algo = KNNWithMeans()\n",
    "    algo.fit(trainset)\n",
    "    testset = trainset.build_anti_testset()\n",
    "    #predictions = algo.test(testset)\n",
    "    #cross_validate(algo, data, measures=['RMSE', 'MAE'], cv=5, verbose=True)\n",
    "    return algo    \n",
    "\n",
    "trainedAlgo = train(inputScores)"
   ]
  },
  {
   "cell_type": "code",
   "execution_count": 138,
   "metadata": {
    "ExecuteTime": {
     "end_time": "2018-11-16T18:54:56.057832Z",
     "start_time": "2018-11-16T18:54:55.089310Z"
    }
   },
   "outputs": [
    {
     "data": {
      "text/plain": [
       "[('/s/11255094/1/Rumpelstiltskin', 2429, 4.8756),\n",
       " ('/s/8045114/1/A-Marauder-s-Plan', 1, 3.9314999999999998),\n",
       " ('/s/4101650/1/Backward-With-Purpose-Part-I-Always-and-Always', 52, 3.8399),\n",
       " ('/s/11401300/1/A-Happy-Reunion', 4027, 3.7981999999999996),\n",
       " ('/s/2636645/1/I-Tauwght-I-Taw-A-Putty-Tat', 1390, 3.5465999999999998),\n",
       " ('/s/12175260/1/The-Sound-Of-Silence', 3977, 3.5465),\n",
       " ('/s/9901082/1/Family-Matters', 2377, 3.3299000000000003),\n",
       " ('/s/12026958/1/Sewing-Obsession', 3999, 2.987400000000001),\n",
       " ('/s/2703459/1/All-Bets', 2350, 2.63255),\n",
       " ('/s/8087429/1/Socks', 1527, 2.6249000000000002)]"
      ]
     },
     "execution_count": 138,
     "metadata": {},
     "output_type": "execute_result"
    }
   ],
   "source": [
    "def getTopNPredictions(algo, examples, userId, n = 10):\n",
    "    df = pd.DataFrame(examples)\n",
    "    df_filtered = df.query('userId==' + str(userId))\n",
    "    #print(df_filtered)\n",
    "    test_items = []\n",
    "    for story in stories:\n",
    "        storyId = storyLinkToIdDict[story['storyLink']]\n",
    "        test_items.append({\n",
    "                    \"storyId\" : storyId, \n",
    "                    \"userId\" : userId,\n",
    "                    \"score\" :  0\n",
    "                })\n",
    "    df = pd.DataFrame(test_items)\n",
    "    #remove values the user already knows\n",
    "    mask = np.logical_not(df['storyId'].isin(set(df_filtered['storyId'])))\n",
    "    df = df[mask]\n",
    "    \n",
    "    reader = Reader(rating_scale=(-5, 10))\n",
    "    data = Dataset.load_from_df(df[['userId', 'storyId', 'score']], reader)\n",
    "    trainset = data.build_full_trainset()\n",
    "    testset = trainset.build_testset()\n",
    "    predictions = algo.test(testset)\n",
    "    \n",
    "    top_n = []\n",
    "    for uid, iid, true_r, est, _ in predictions:\n",
    "        top_n.append((IdToStoryDict[iid]['storyLink'], iid, est))\n",
    "    \n",
    "    top_n.sort(key=lambda x: x[2], reverse=True)\n",
    "    top_n = top_n[:n]\n",
    "    return top_n\n",
    "    \n",
    "getTopNPredictions(trainedAlgo, inputScores, 500, 10)"
   ]
  },
  {
   "cell_type": "code",
   "execution_count": 139,
   "metadata": {
    "ExecuteTime": {
     "end_time": "2018-11-16T18:56:50.197201Z",
     "start_time": "2018-11-16T18:56:50.165952Z"
    }
   },
   "outputs": [],
   "source": [
    "def predict(user, n = 10):\n",
    "    global userId, inputScores, trainedAlgo \n",
    "    if(user['name'] not in userLinkToIdDict):\n",
    "        print('bad', userId)\n",
    "        userLinkToIdDict[user['name']] = userId\n",
    "        IdToUserDict[userId] = user\n",
    "        userId += 1\n",
    "        trainedAlgo = train(inputScores)\n",
    "    uid = userLinkToIdDict[heldoutUser['name']]\n",
    "    return getTopNPredictions(trainedAlgo, inputScores, userLinkToIdDict[user['name']], n)\n",
    "    "
   ]
  },
  {
   "cell_type": "code",
   "execution_count": 140,
   "metadata": {
    "ExecuteTime": {
     "end_time": "2018-11-16T19:00:05.405084Z",
     "start_time": "2018-11-16T18:57:19.712369Z"
    }
   },
   "outputs": [
    {
     "name": "stdout",
     "output_type": "stream",
     "text": [
      "bad 5174\n",
      "Computing the msd similarity matrix...\n",
      "Done computing similarity matrix.\n"
     ]
    },
    {
     "data": {
      "text/plain": [
       "[('/s/3345078/1/Shadows-Within-the-Light', 622, 9.971400000000003),\n",
       " ('/s/3163139/1/Raspberry-Jam', 3252, 7.0242),\n",
       " ('/s/10714425/1/Messing-With-Time', 1050, 6.009800000000002),\n",
       " ('/s/11726446/1/third-time-s-a-charm', 2052, 5.071400000000001),\n",
       " ('/s/11266090/1/The-Beauty-In-Me', 2195, 5.0267),\n",
       " ('/s/9486886/1/Moratorium', 2347, 4.156037633764049),\n",
       " ('/s/8950627/1/Tainted', 2758, 4.117799999999999),\n",
       " ('/s/7481386/1/Killing-Time', 3671, 3.9542),\n",
       " ('/s/8326928/1/Three-s-The-Charm', 707, 3.940999999999999),\n",
       " ('/s/3951749/1/Harry-Potter-and-the-Quantum-Leap', 389, 3.8918999999999997)]"
      ]
     },
     "execution_count": 140,
     "metadata": {},
     "output_type": "execute_result"
    }
   ],
   "source": [
    "predict(heldoutUser)"
   ]
  }
 ],
 "metadata": {
  "kernelspec": {
   "display_name": "Python 3",
   "language": "python",
   "name": "python3"
  },
  "language_info": {
   "codemirror_mode": {
    "name": "ipython",
    "version": 3
   },
   "file_extension": ".py",
   "mimetype": "text/x-python",
   "name": "python",
   "nbconvert_exporter": "python",
   "pygments_lexer": "ipython3",
   "version": "3.6.6"
  },
  "toc": {
   "base_numbering": 1,
   "nav_menu": {},
   "number_sections": true,
   "sideBar": true,
   "skip_h1_title": false,
   "title_cell": "Table of Contents",
   "title_sidebar": "Contents",
   "toc_cell": false,
   "toc_position": {},
   "toc_section_display": true,
   "toc_window_display": false
  },
  "varInspector": {
   "cols": {
    "lenName": 16,
    "lenType": 16,
    "lenVar": 40
   },
   "kernels_config": {
    "python": {
     "delete_cmd_postfix": "",
     "delete_cmd_prefix": "del ",
     "library": "var_list.py",
     "varRefreshCmd": "print(var_dic_list())"
    },
    "r": {
     "delete_cmd_postfix": ") ",
     "delete_cmd_prefix": "rm(",
     "library": "var_list.r",
     "varRefreshCmd": "cat(var_dic_list()) "
    }
   },
   "types_to_exclude": [
    "module",
    "function",
    "builtin_function_or_method",
    "instance",
    "_Feature"
   ],
   "window_display": false
  }
 },
 "nbformat": 4,
 "nbformat_minor": 2
}
